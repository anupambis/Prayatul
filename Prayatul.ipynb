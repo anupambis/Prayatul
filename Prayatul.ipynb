{
 "cells": [
  {
   "cell_type": "markdown",
   "id": "e6db3ed7",
   "metadata": {},
   "source": [
    "### Prayatul Matrix for direct comparison of Machine  Learning algorithms                                                          \n",
    "  Source codes demo version 1.0                                                                      \n",
    "                                                                                                  \n",
    "  Developed in Python 3                                                                   \n",
    "                                                                                                     \n",
    "  Author and programmer: Anupam Biswas                                                          \n",
    "                                                                                                    \n",
    "        e-Mail:    anupam@cse.nits.ac.in                                                \n",
    "                                                                                                                                   Homepage: http://cs.nits.ac.in/anupam/    \n",
    "                                                                                                                                 \n",
    "                                                                                                                                   "
   ]
  },
  {
   "cell_type": "code",
   "execution_count": 27,
   "id": "b25172b1",
   "metadata": {},
   "outputs": [],
   "source": [
    "import numpy as np"
   ]
  },
  {
   "cell_type": "markdown",
   "id": "83420de4",
   "metadata": {},
   "source": [
    "### Prayatul Matrix Generation\n",
    "The generatePrayatulMatrix function takes three inputs\n",
    " 1) G : Ground truth labels of all samples in the dataset\n",
    " 2) P : Predicted labels obtained with primary algorithm\n",
    " 3) Q : Predicted labels obtained with alternative algorithm"
   ]
  },
  {
   "cell_type": "code",
   "execution_count": 28,
   "id": "911046b3",
   "metadata": {},
   "outputs": [],
   "source": [
    "def generatePrayatulMatrix( G,P,Q ):\n",
    "    D = np.array([[0,0], [0,0]])\n",
    "    for i in range(len(G)):        \n",
    "        if P[i]==G[i] and Q[i]==G[i]:            \n",
    "            D[0][0] +=1\n",
    "        elif P[i]==G[i] and Q[i]!=G[i]:\n",
    "            D[0][1] +=1            \n",
    "        elif P[i]!=G[i] and Q[i]==G[i]:\n",
    "            D[1][0] +=1             \n",
    "        elif P[i]!=G[i] and Q[i]!=G[i]:\n",
    "            D[1][1] +=1   \n",
    "    return D"
   ]
  },
  {
   "cell_type": "markdown",
   "id": "1cb0e5bb",
   "metadata": {},
   "source": [
    "### Scores based on Prayatul Matrix\n",
    "The getScore function takes a prayatul matrix as input and return five scores"
   ]
  },
  {
   "cell_type": "code",
   "execution_count": 29,
   "id": "487596f7",
   "metadata": {},
   "outputs": [],
   "source": [
    "def getScores(D):\n",
    "    BR=D[0][0]\n",
    "    RW=D[0][1]\n",
    "    WR=D[1][0]\n",
    "    BW=D[1][1]\n",
    "    k=0.0001  # k is a very small quantity added to the denominator to avoid x/0 situation\n",
    "    if RW==0 and WR==0:\n",
    "        sigmaC=(RW-WR)/(RW+WR+k)\n",
    "    else:\n",
    "        sigmaC=(RW-WR)/(RW+WR)\n",
    "    if BR==0 and BW==0:\n",
    "        alpha=(BR-BW)/(BR+BW+k)\n",
    "    else:\n",
    "        alpha=(BR-BW)/(BR+BW)\n",
    "    if BR==0 and RW==0 and WR==0:\n",
    "        xiC=(BR+RW)/(BR+RW+WR+k)\n",
    "        xiE=(BR+RW-WR)/(BR+RW+WR+k)\n",
    "    else:\n",
    "        xiC=(BR+RW)/(BR+RW+WR)\n",
    "        xiE=(BR+RW-WR)/(BR+RW+WR)    \n",
    "    phiE=(BR+RW-WR)/(BR+RW+WR+BW)\n",
    "    return sigmaC, alpha, xiC, xiE, phiE"
   ]
  },
  {
   "cell_type": "code",
   "execution_count": 30,
   "id": "1919dcca",
   "metadata": {},
   "outputs": [
    {
     "name": "stdout",
     "output_type": "stream",
     "text": [
      "[[8 7]\n",
      " [3 2]]\n",
      "0.4 0.6 0.8333333333333334 0.6666666666666666 0.6\n"
     ]
    }
   ],
   "source": [
    "# Ground truth labels for all samples\n",
    "G=[1,1,1,0,0,0,1,0,0,1,1,0,1,1,0,1,1,1,0,1]\n",
    "\n",
    "# Predicted labels for all samples obtained with primary ML algorithm, whose performance is to be compared\n",
    "P=[1,1,1,0,1,0,1,1,0,0,1,0,1,0,0,1,1,1,1,1]\n",
    "\n",
    "# Predicted labels for all samples obtained with alternative ML algorithm with whom the primary algorithm is to be compared\n",
    "Q=[1,0,1,0,1,1,0,1,0,1,0,1,1,1,0,0,1,0,0,1]\n",
    "\n",
    "\n",
    "D=generatePrayatulMatrix(G,P,Q)\n",
    "# Display Prayatul Matrix D\n",
    "print(D)\n",
    "\n",
    "sigmaC, alpha, xiC, xiE, phiE = getScores(D)\n",
    "# Display Scores obatained based on the Prayatul Matrix prepared for two ML algorithms \n",
    "print(sigmaC, alpha, xiC, xiE, phiE)"
   ]
  }
 ],
 "metadata": {
  "kernelspec": {
   "display_name": "Python 3 (ipykernel)",
   "language": "python",
   "name": "python3"
  },
  "language_info": {
   "codemirror_mode": {
    "name": "ipython",
    "version": 3
   },
   "file_extension": ".py",
   "mimetype": "text/x-python",
   "name": "python",
   "nbconvert_exporter": "python",
   "pygments_lexer": "ipython3",
   "version": "3.10.4"
  }
 },
 "nbformat": 4,
 "nbformat_minor": 5
}
